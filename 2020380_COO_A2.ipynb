{
  "nbformat": 4,
  "nbformat_minor": 0,
  "metadata": {
    "colab": {
      "provenance": []
    },
    "kernelspec": {
      "name": "python3",
      "display_name": "Python 3"
    },
    "language_info": {
      "name": "python"
    }
  },
  "cells": [
    {
      "cell_type": "code",
      "source": [
        "!pip install numdifftools\n",
        "import numdifftools as nd\n",
        "import numpy as np\n",
        "import cvxpy as cp\n",
        "import matplotlib.pyplot as plt\n",
        "import math\n",
        "import warnings\n",
        "warnings.filterwarnings(\"ignore\")"
      ],
      "metadata": {
        "id": "_yLpcCoWe4eX",
        "colab": {
          "base_uri": "https://localhost:8080/"
        },
        "outputId": "05198312-e711-410b-8c50-26d357472c69"
      },
      "execution_count": 1,
      "outputs": [
        {
          "output_type": "stream",
          "name": "stdout",
          "text": [
            "Looking in indexes: https://pypi.org/simple, https://us-python.pkg.dev/colab-wheels/public/simple/\n",
            "Requirement already satisfied: numdifftools in /usr/local/lib/python3.9/dist-packages (0.9.41)\n",
            "Requirement already satisfied: scipy>=0.8 in /usr/local/lib/python3.9/dist-packages (from numdifftools) (1.10.1)\n",
            "Requirement already satisfied: numpy>=1.9 in /usr/local/lib/python3.9/dist-packages (from numdifftools) (1.22.4)\n"
          ]
        }
      ]
    },
    {
      "cell_type": "markdown",
      "source": [
        "## Q1"
      ],
      "metadata": {
        "id": "wUbAvooO-aTc"
      }
    },
    {
      "cell_type": "code",
      "source": [
        "u1, u2 = cp.Variable(nonneg=True), cp.Variable(nonneg=True)"
      ],
      "metadata": {
        "id": "JyLbiiDVe2K7"
      },
      "execution_count": 2,
      "outputs": []
    },
    {
      "cell_type": "code",
      "source": [
        "# Initialize constraints (must be a list)\n",
        "\n",
        "# u1 + 2u2 ≤ 12\n",
        "# 2u1 + u2 ≤ 12\n",
        "# u1 ≥ d1, u2 ≥ d2\n",
        "\n",
        "d1,d2 = 3.5,2\n",
        "constraints = [u1 + 2*u2 <= 12,\n",
        "               2*u1 + u2 <= 12,\n",
        "               u1 >= d1,\n",
        "               u2 >= d2,\n",
        "               ]"
      ],
      "metadata": {
        "id": "o_vLkbPo7B7E"
      },
      "execution_count": 3,
      "outputs": []
    },
    {
      "cell_type": "code",
      "source": [
        "thetas = np.linspace(0,1,1000)"
      ],
      "metadata": {
        "id": "1KgldQjV72Ii"
      },
      "execution_count": 4,
      "outputs": []
    },
    {
      "cell_type": "code",
      "source": [
        "u1_theta = []\n",
        "for θ in thetas:\n",
        "  # u1, u2 = cp.Variable(nonneg=True), cp.Variable(nonneg=True)\n",
        "  W = θ*u1 + (1-θ)*u2\n",
        "  objective = cp.Maximize(W)\n",
        "  problem = cp.Problem(objective, constraints)\n",
        "  problem.solve()\n",
        "  # print(problem.value)\n",
        "  u1_theta.append(u1.value)\n",
        "  \n",
        "  "
      ],
      "metadata": {
        "id": "MfDQQ3HGe3qD"
      },
      "execution_count": 5,
      "outputs": []
    },
    {
      "cell_type": "code",
      "source": [
        "u1_theta[:10]"
      ],
      "metadata": {
        "colab": {
          "base_uri": "https://localhost:8080/"
        },
        "id": "Iy_HfJVD-PAP",
        "outputId": "31dda375-a4e9-4c2e-8c91-e01ee57174e2"
      },
      "execution_count": 6,
      "outputs": [
        {
          "output_type": "execute_result",
          "data": {
            "text/plain": [
              "[3.5000000001610303,\n",
              " 3.500000000161864,\n",
              " 3.5000000001627027,\n",
              " 3.500000000163548,\n",
              " 3.5000000001643987,\n",
              " 3.500000000165256,\n",
              " 3.5000000001661182,\n",
              " 3.500000000166986,\n",
              " 3.5000000001678613,\n",
              " 3.5000000001687415]"
            ]
          },
          "metadata": {},
          "execution_count": 6
        }
      ]
    },
    {
      "cell_type": "code",
      "source": [
        "plt.plot(thetas, u1_theta,label=\"u1(θ\")\n",
        "plt.xlabel(\"θ\")\n",
        "plt.ylabel(\"u1(θ)\")\n",
        "plt.legend()\n",
        "plt.show()"
      ],
      "metadata": {
        "colab": {
          "base_uri": "https://localhost:8080/",
          "height": 449
        },
        "id": "p6rLzI6n8adv",
        "outputId": "8f600455-e5b8-4dd3-f291-7c51fa26c952"
      },
      "execution_count": 7,
      "outputs": [
        {
          "output_type": "display_data",
          "data": {
            "text/plain": [
              "<Figure size 640x480 with 1 Axes>"
            ],
            "image/png": "[encoded data removed]"
          },
          "metadata": {}
        }
      ]
    },
    {
      "cell_type": "code",
      "source": [],
      "metadata": {
        "id": "gZe7gRnfZdZN"
      },
      "execution_count": 7,
      "outputs": []
    },
    {
      "cell_type": "markdown",
      "source": [
        "## Q2"
      ],
      "metadata": {
        "id": "xm8kGsJdC72R"
      }
    },
    {
      "cell_type": "code",
      "source": [
        "u_1, u_2 = cp.Variable(), cp.Variable()\n",
        "constraints = [u_1 + 2*u_2 <= 12,\n",
        "               2*u_1 + u_2 <= 12,\n",
        "               u_1 >= d1,\n",
        "               u_2 >= d2,\n",
        "               ]"
      ],
      "metadata": {
        "id": "xQ8B_UE8JD4p"
      },
      "execution_count": 8,
      "outputs": []
    },
    {
      "cell_type": "code",
      "source": [
        "N = cp.log(u_1 - d1) + cp.log(u_2 - d2)\n",
        "objective = cp.Maximize(N)\n",
        "problem = cp.Problem(objective, constraints)\n",
        "problem.solve()"
      ],
      "metadata": {
        "colab": {
          "base_uri": "https://localhost:8080/"
        },
        "id": "0pQ2H8hTC7S2",
        "outputId": "51070165-3a2c-4bcd-c2f8-e1581fba5be7"
      },
      "execution_count": 9,
      "outputs": [
        {
          "output_type": "execute_result",
          "data": {
            "text/plain": [
              "0.11778302005591901"
            ]
          },
          "metadata": {},
          "execution_count": 9
        }
      ]
    },
    {
      "cell_type": "code",
      "source": [
        "print(\"Nash bargaining solution u1=\",u_1.value,\" u2 = \",u_2.value)\n",
        "print(\"Nash bargaining primal optimal value :\",problem.value)"
      ],
      "metadata": {
        "colab": {
          "base_uri": "https://localhost:8080/"
        },
        "id": "gUigrAq5DpaE",
        "outputId": "c4f3dd03-9094-4c21-e403-e399b869b1fd"
      },
      "execution_count": 10,
      "outputs": [
        {
          "output_type": "stream",
          "name": "stdout",
          "text": [
            "Nash bargaining solution u1= 4.249999934669844  u2 =  3.5000001072596256\n",
            "Nash bargaining primal optimal value : 0.11778302005591901\n"
          ]
        }
      ]
    },
    {
      "cell_type": "code",
      "source": [
        "# d1,d2 = 3.5,2\n",
        "# constraints = [u1 + 2*u2 <= 12,\n",
        "#                2*u1 + u2 <= 12,\n",
        "#                u1 >= d1,\n",
        "#                u2 >= d2,\n",
        "#                ]\n",
        "print(\"optimal (u1 + 2*u2 <= 12) dual variable =\", constraints[0].dual_value)\n",
        "print(\"optimal (2*u1 + u2 <=12 ) dual variable = \", constraints[1].dual_value)\n",
        "print(\"optimal (u1 >= d1) dual variable = \", constraints[2].dual_value)\n",
        "print(\"optimal (u2 >= d2) dual variable = \", constraints[3].dual_value)"
      ],
      "metadata": {
        "colab": {
          "base_uri": "https://localhost:8080/"
        },
        "id": "bT26gJEMYarr",
        "outputId": "fa1a4929-a816-4ca3-ea1a-dc8302b92bca"
      },
      "execution_count": 11,
      "outputs": [
        {
          "output_type": "stream",
          "name": "stdout",
          "text": [
            "optimal (u1 + 2*u2 <= 12) dual variable = 3.6170408140313444e-09\n",
            "optimal (2*u1 + u2 <=12 ) dual variable =  0.6666667548200322\n",
            "optimal (u1 >= d1) dual variable =  3.202879721090295e-09\n",
            "optimal (u2 >= d2) dual variable =  1.5363574774749631e-09\n"
          ]
        }
      ]
    },
    {
      "cell_type": "code",
      "source": [
        "d_1 = np.linspace(2,5,100)\n",
        "soln = []\n",
        "u1_list = []\n",
        "u2_list = []\n",
        "for i in d_1:\n",
        "  N = cp.log(u_1 - i) + cp.log(u_2 - 2)\n",
        "  objective = cp.Maximize(N)\n",
        "\n",
        "  constraints_upadated = [u_1 + 2*u_2 <= 12,\n",
        "               2*u_1 + u_2 <= 12,\n",
        "               u_1 >= i,\n",
        "               u_2 >= d2,\n",
        "               ]\n",
        "\n",
        "  problem = cp.Problem(objective, constraints_upadated)\n",
        "  problem.solve()\n",
        "\n",
        "  soln.append(problem.value)\n",
        "  u1_list.append(u_1.value)\n",
        "  u2_list.append(u_2.value)"
      ],
      "metadata": {
        "id": "K2HmoGg2ZfM_"
      },
      "execution_count": 12,
      "outputs": []
    },
    {
      "cell_type": "code",
      "source": [
        "plt.figure(figsize=(12,8))\n",
        "plt.plot(d_1,u1_list,label=\"u1\")\n",
        "plt.plot(d_1,u2_list,label=\"u2\")\n",
        "plt.xlabel(\"d1\")\n",
        "plt.ylabel(\"payloads\")\n",
        "plt.legend()"
      ],
      "metadata": {
        "colab": {
          "base_uri": "https://localhost:8080/",
          "height": 713
        },
        "id": "veA1x1-Fxqxo",
        "outputId": "81b45e92-926d-433d-d0ab-cbfdfaf48b3e"
      },
      "execution_count": 13,
      "outputs": [
        {
          "output_type": "execute_result",
          "data": {
            "text/plain": [
              "<matplotlib.legend.Legend at 0x7faeba6d69a0>"
            ]
          },
          "metadata": {},
          "execution_count": 13
        },
        {
          "output_type": "display_data",
          "data": {
            "text/plain": [
              "<Figure size 1200x800 with 1 Axes>"
            ],
            "image/png": "[encoded data removed]"
          },
          "metadata": {}
        }
      ]
    },
    {
      "cell_type": "code",
      "source": [
        "plt.scatter(d_1, soln)\n",
        "plt.xlabel(\"d1\")\n",
        "plt.ylabel(\"N(u1,u2)\")\n",
        "# plt.legend()\n",
        "plt.show()"
      ],
      "metadata": {
        "colab": {
          "base_uri": "https://localhost:8080/",
          "height": 449
        },
        "id": "hKLOmf0ZaRLI",
        "outputId": "68bd27b9-5146-40bf-8814-110cd6ba785b"
      },
      "execution_count": 14,
      "outputs": [
        {
          "output_type": "display_data",
          "data": {
            "text/plain": [
              "<Figure size 640x480 with 1 Axes>"
            ],
            "image/png": "[encoded data removed]"
          },
          "metadata": {}
        }
      ]
    },
    {
      "cell_type": "markdown",
      "source": [
        "## Q3"
      ],
      "metadata": {
        "id": "eviGEnAh-TBf"
      }
    },
    {
      "cell_type": "code",
      "source": [
        "from scipy.optimize import line_search\n",
        "\n",
        "def f0(x,y):\n",
        "    return -(np.log(x-2)+np.log(y-1))\n",
        "    # return -np.log((x-2)*(y-1))\n",
        "\n",
        "def B(x,y):\n",
        "  return (-np.log((-(x+2*y-12))))+ (-np.log((-(2*x+y-12)))) + (-np.log(x-2)) + (-np.log(y-1)) \n",
        "  # return - np.log((x+2*y-12)*(2*x+y-12)*(x-2)*(y-1))???\n",
        "  \n",
        "def f(x,y,t):\n",
        "  # return -t*(np.log(x-2)+np.log(y-1)) - (np.log(12-x-2*y)+np.log(12-2*x-y)+np.log(x-2)+np.log(y-1))\n",
        "  return t*f0(x,y)+B(x,y)\n",
        "\n",
        "\n",
        "# computing first order derivatives of f wrt x and y\n",
        "def df(x,y,t):\n",
        "  dx = (-t/(x-2)) - (1/(x-2)) + (1/(-x-2*y+12)) + (2/(-2*x-y+12))\n",
        "  dy = (-t/(y-1)) - (1/(y-1)) + (2/(-x-2*y+12)) + (1/(-2*x-y+12))\n",
        "  return dx,dy\n",
        "\n",
        "# constructing Hessian matrix (inbuilt func and by calculating each derivative)\n",
        "def Hessian(x,y,t):\n",
        "  hessian = np.zeros((2,2),dtype=float)\n",
        "  hessian[0][0]  = (t/((x-2)**2)) + ( (1/((x+2*y-12)**2)) + (4/(2*x+y-12)**2) + (1/((x-2)**2)) )\n",
        "  hessian[1][1]  = (t/((y-1)**2)) + ( (4/((x+2*y-12)**2)) + (1/(2*x+y-12)**2) + (1/((y-1)**2)) )\n",
        "  hessian[1][0]= hessian[0][1] =   ( (2/((x+2*y-12)**2)) + (2/((2*x+y-12)**2)) )\n",
        "  return hessian\n",
        "\n",
        "def lineSearch(x,y,t,alpha,beta,d1,d2):\n",
        "  tx=ty= 1\n",
        "  dx,dy = df(x,y,t)\n",
        "\n",
        "  Df_t = tx*d1*dx + ty*d2*dy\n",
        "  \n",
        "\n",
        "  while( f(x,y,t) - f(x+tx*d1,y+ty*d2,t) < - alpha*(Df_t) ):\n",
        "    # print(f(x,y,t))\n",
        "    tx = beta * tx\n",
        "    ty = beta * ty\n",
        "    Df_t = tx*d1*dx + ty*d2*dy\n",
        "\n",
        "  return tx,ty\n",
        "\n",
        "# return bool wheter the given matrix is positive definite \n",
        "\n",
        "\n",
        "\n",
        "def newtonDescent(x,y,t,tol,alpha,beta):\n",
        "  dx,dy = df(x,y,t)  \n",
        "  Hf = Hessian(x,y,t)\n",
        "  gradient_f = np.array([[dx],[dy]])\n",
        "\n",
        "  # Choosing Directional Derivatives\n",
        "  d = np.matmul(np.linalg.inv(Hf),(-gradient_f ))\n",
        "  norm = math.sqrt((dx)**2 + (dy)**2) \n",
        "  while(norm>tol):  # while norm of gradient is greater than tolerance\n",
        "      d1,d2 = d[0][0],d[1][0]\n",
        "      # line search\n",
        "      tx,ty = lineSearch(x,y,t,alpha,beta,d1,d2)\n",
        "      \n",
        "      # x = x + td (updating)\n",
        "      x = x + tx * d1\n",
        "      y = y + ty * d2\n",
        "      # print(x,y,norm,f(x,y,t),d1,d2,tx,ty)\n",
        "      \n",
        "      # updating derivatives,Hessian Matrix,gradient,norm\n",
        "      dx,dy = df(x,y,t)\n",
        "      Hf = Hessian(x,y,t)\n",
        "      gradient_f = np.array([[dx],[dy]])\n",
        "      d = np.matmul(np.linalg.inv(Hf),-gradient_f )\n",
        "      norm = math.sqrt((dx)**2 + (dy)**2) \n",
        "\n",
        "  return x,y\n",
        "\n",
        "alpha = 0.1\n",
        "beta = 0.8\n",
        "tol = 1e-3\n",
        "ux,uy = 3.5,3.5\n",
        "t = 2\n",
        "μ = 11\n",
        "m = 4\n",
        "η = 1e-6\n",
        "c = 0\n",
        "\n",
        "\n",
        "\n",
        "while m/t > η:\n",
        "  # print(c)\n",
        "  t = μ*t\n",
        "  # centering\n",
        "  u1_min,u2_min = newtonDescent(ux,uy,t,tol,alpha,beta)\n",
        "  # print(u1_min,u2_min)\n",
        "  ux,uy = u1_min,u2_min\n",
        "  c+=1\n",
        "  print(\"---------------------------------\")\n",
        "\n",
        "print(ux,uy)"
      ],
      "metadata": {
        "id": "F3zoHi9v1GCm",
        "colab": {
          "base_uri": "https://localhost:8080/"
        },
        "outputId": "d58744b0-2a90-4fe6-9828-90016011e22f"
      },
      "execution_count": 15,
      "outputs": [
        {
          "output_type": "stream",
          "name": "stdout",
          "text": [
            "---------------------------------\n",
            "---------------------------------\n",
            "---------------------------------\n",
            "---------------------------------\n",
            "---------------------------------\n",
            "---------------------------------\n",
            "---------------------------------\n",
            "59746897774.591415 72627271714.19226\n"
          ]
        }
      ]
    },
    {
      "cell_type": "code",
      "source": [
        "# Algorithm: Interior point (log barrier)\n",
        "# choose an initial strictly feasible primal point x, an initial value t = t0 of the accuracy\n",
        "# parameter, the accuracy multiplier μ > 1 (usually a value between 10 to 20), a tolerance\n",
        "# level η for the stopping criterion\n",
        "# while m/t > η (current iterate is not within η-suboptimal)\n",
        "# 1. Increase accuracy. t = μt\n",
        "# 2. Centering step. Compute the central point x(t) by solving (12.5) using Newton descent\n",
        "# method and x as the initial point.\n",
        "# 3. Update the initial point for next iteration. x = x(t)\n",
        "# endwhile\n",
        "# return x as the primal optimum; and λi = −  1./t_fi(x)\n",
        "# as the i-th dual optimum\n",
        "from scipy.optimize import minimize\n",
        "from scipy.optimize import approx_fprime\n",
        "import numpy as np\n",
        "\n",
        "intial_t = t = 2\n",
        "μ = 11\n",
        "η = 1e-6\n",
        "m = 4\n",
        "alpha = 0.1\n",
        "beta = 0.5\n",
        "tol = 1e-5\n",
        "x = [3.01,3.01]\n",
        "c = 0\n",
        "final_t = 2+1e-9\n",
        "while m/final_t > η:\n",
        "  final_t = μ*final_t\n",
        "\n",
        "def check_positive_def(matrix):\n",
        "    w, v = np.linalg.eig(matrix)\n",
        "    return all(eigenvalue > 0 for eigenvalue in w)\n",
        "\n",
        "\n",
        "\n",
        "def jacobian(x,y,t):\n",
        "  dx = (-t/(x-2)) - (1/(x-2)) + (1/(-x-2*y+12)) + (2/(-2*x-y+12))\n",
        "  dy = (-t/(y-1)) - (1/(y-1)) + (2/(-x-2*y+12)) + (1/(-2*x-y+12))\n",
        "  res = np.array([dx,dy])\n",
        "  # print(res.shape)\n",
        "  return res\n",
        "\n",
        "\n",
        "while m/t > η:\n",
        "  t = μ*t\n",
        "  # centering\n",
        "  fun = lambda x: -t*(np.log(x[0]-2) + np.log(x[1]-1)) + (-np.log((-(x[0]+2*x[1]-12)))+ (-np.log((-(2*x[0]+x[1]-12)))) + (-np.log(x[0]-2)) + (-np.log(x[1]-1)) )\n",
        "  bnds = ((2, 4), (1, 4))\n",
        "  # print(fun(x))\n",
        "  # jacb = lambda x: approx_fprime(x,fun,0.001)\n",
        "  jacb = lambda x: jacobian(x[0],x[1],t)\n",
        "  res = minimize(fun,x,method='Newton-CG',jac = jacb)\n",
        "  x = res.x\n",
        "  # print(x)\n",
        "  # print(res.x)\n",
        "  break\n",
        "  # ux_min,uy_min = combinationGradient(ux,uy,t,tol,alpha,beta)\n",
        "  # print(ux_min,uy_min)\n",
        "  # ux,uy = ux_min,uy_min\n",
        "  \n",
        "  c+=1\n",
        "  \n",
        "\n",
        "\n",
        "# u1_min,u2_min = x[0],x[1]\n",
        "u1,u2 = x[0],x[1]\n",
        "print(u1,u2)\n",
        "# ux,uy = ux_min,uy_min"
      ],
      "metadata": {
        "colab": {
          "base_uri": "https://localhost:8080/"
        },
        "id": "-c5dMXiF2Hem",
        "outputId": "5f452f82-c197-41db-c34e-51293e6cf5af"
      },
      "execution_count": 16,
      "outputs": [
        {
          "output_type": "stream",
          "name": "stdout",
          "text": [
            "4.035788415089387 3.716072253920001\n"
          ]
        }
      ]
    },
    {
      "cell_type": "code",
      "source": [
        "# (i)\n",
        "print(\"Intial t:\",intial_t)\n",
        "print(\"Final  t:\",final_t)"
      ],
      "metadata": {
        "colab": {
          "base_uri": "https://localhost:8080/"
        },
        "id": "tsb_jEoJ1sCP",
        "outputId": "d0070b2d-77ef-4b89-c076-89df7e344897"
      },
      "execution_count": 17,
      "outputs": [
        {
          "output_type": "stream",
          "name": "stdout",
          "text": [
            "Intial t: 2\n",
            "Final  t: 38974342.01948718\n"
          ]
        }
      ]
    },
    {
      "cell_type": "code",
      "source": [
        "# Nash Bargainin solution\n",
        "print(\"Nash bargaining solution u1=\",u1,\" u2 = \",u2)"
      ],
      "metadata": {
        "colab": {
          "base_uri": "https://localhost:8080/"
        },
        "id": "TiiTP9fX7HLV",
        "outputId": "aef13321-ce30-4223-da9d-cdc9df3acdde"
      },
      "execution_count": 18,
      "outputs": [
        {
          "output_type": "stream",
          "name": "stdout",
          "text": [
            "Nash bargaining solution u1= 4.035788415089387  u2 =  3.716072253920001\n"
          ]
        }
      ]
    },
    {
      "cell_type": "code",
      "source": [
        "# primal optimal value (Maximized Nash welfare)\n",
        "print(\"Nash bargaining primal optimal value :\",np.log(u1-2)+np.log(u2-1))"
      ],
      "metadata": {
        "colab": {
          "base_uri": "https://localhost:8080/"
        },
        "id": "f2EhNgP33Lky",
        "outputId": "da016037-4fa0-4d07-dcb4-6be796102178"
      },
      "execution_count": 19,
      "outputs": [
        {
          "output_type": "stream",
          "name": "stdout",
          "text": [
            "Nash bargaining primal optimal value : 1.7100699838321547\n"
          ]
        }
      ]
    },
    {
      "cell_type": "code",
      "source": [
        "# dual optimum\n",
        "# -1/(t*f(xi))\n",
        "\n",
        "print(\"optimal (u1 + 2*u2 <= 12) dual variable =\", -1 / ((u1 + 2*u2-12)*final_t)  )\n",
        "print(\"optimal (2*u1 + u2 <=12 ) dual variable = \", -1/((2*u1 + u2 - 12 )*final_t) )\n",
        "print(\"optimal (u1 >= d1) dual variable = \",  -1/(final_t*(2-u1)))\n",
        "print(\"optimal (u2 >= d2) dual variable = \", -1/(final_t*(1-u2)))"
      ],
      "metadata": {
        "colab": {
          "base_uri": "https://localhost:8080/"
        },
        "id": "fwSxjXYb4vIT",
        "outputId": "3ceed6e2-9e37-47a8-b68f-42ea2f99f039"
      },
      "execution_count": 25,
      "outputs": [
        {
          "output_type": "stream",
          "name": "stdout",
          "text": [
            "optimal (u1 + 2*u2 <= 12) dual variable = 4.8223066234375005e-08\n",
            "optimal (2*u1 + u2 <=12 ) dual variable =  1.2082785605050583e-07\n",
            "optimal (u1 >= d1) dual variable =  1.2603424652841342e-08\n",
            "optimal (u2 >= d2) dual variable =  9.446694896159456e-09\n"
          ]
        }
      ]
    },
    {
      "cell_type": "code",
      "source": [
        "# inequality constraint function values at the optimum\n",
        "print(\"(u1 + 2*u2 <= 12) value =\", ((u1 + 2*u2-12))  )\n",
        "print(\"(2*u1 + u2 <=12 )  variable = \", ((2*u1 + u2 - 12 )) )\n",
        "print(\"(u1 >= d1)  variable = \",  ((2-u1)))\n",
        "print(\" (u2 >= d2)  variable = \", ((1-u2)) )"
      ],
      "metadata": {
        "colab": {
          "base_uri": "https://localhost:8080/"
        },
        "id": "Fi5LEsjyzWNf",
        "outputId": "2a83e352-9c23-44fa-f580-8a3b007ee3e4"
      },
      "execution_count": 26,
      "outputs": [
        {
          "output_type": "stream",
          "name": "stdout",
          "text": [
            "(u1 + 2*u2 <= 12) value = -0.5320670770706108\n",
            "(2*u1 + u2 <=12 )  variable =  -0.2123509159012258\n",
            "(u1 >= d1)  variable =  -2.035788415089387\n",
            " (u2 >= d2)  variable =  -2.716072253920001\n"
          ]
        }
      ]
    },
    {
      "cell_type": "code",
      "source": [
        "u1_, u2_ = cp.Variable(), cp.Variable()\n",
        "d1,d2 = 2,1\n",
        "constraints_x = [u1_ + 2*u2_ <= 12,\n",
        "               2*u1_ + u2_ <= 12,\n",
        "               u1_ >= d1,\n",
        "               u2_ >= d2,\n",
        "               ]\n",
        "\n",
        "N = cp.log(u1_ - 2) + cp.log(u2_ - 1)\n",
        "objective = cp.Maximize(N)\n",
        "problem = cp.Problem(objective, constraints_x)\n",
        "problem.solve()\n",
        "print(\"Nash bargaining solution u1=\",u1_.value,\" u2 = \",u2_.value)\n",
        "print(\"Nash bargaining primal optimal value :\",problem.value)\n"
      ],
      "metadata": {
        "id": "x-QLCi81iyAH",
        "colab": {
          "base_uri": "https://localhost:8080/"
        },
        "outputId": "f8c39d31-9144-469b-d64f-e1378b470982"
      },
      "execution_count": 22,
      "outputs": [
        {
          "output_type": "stream",
          "name": "stdout",
          "text": [
            "Nash bargaining solution u1= 4.000000004979701  u2 =  3.9999999269662188\n",
            "Nash bargaining primal optimal value : 1.7917594473733116\n"
          ]
        }
      ]
    },
    {
      "cell_type": "code",
      "source": [
        "print(\"optimal (u1 + 2*u2 <= 12) dual variable =\", constraints_x[0].dual_value)\n",
        "print(\"optimal (2*u1 + u2 <=12 ) dual variable = \", constraints_x[1].dual_value)\n",
        "print(\"optimal (u1 >= d1) dual variable = \", constraints_x[2].dual_value)\n",
        "print(\"optimal (u2 >= d2) dual variable = \", constraints_x[3].dual_value)"
      ],
      "metadata": {
        "id": "gwAgpt9Om08D",
        "colab": {
          "base_uri": "https://localhost:8080/"
        },
        "outputId": "075fdc7d-7e7c-48de-a927-5932dc41d697"
      },
      "execution_count": 23,
      "outputs": [
        {
          "output_type": "stream",
          "name": "stdout",
          "text": [
            "optimal (u1 + 2*u2 <= 12) dual variable = 0.055555492917319045\n",
            "optimal (2*u1 + u2 <=12 ) dual variable =  0.22222225382821226\n",
            "optimal (u1 >= d1) dual variable =  2.6347836197701797e-09\n",
            "optimal (u2 >= d2) dual variable =  1.8187904014581112e-09\n"
          ]
        }
      ]
    },
    {
      "cell_type": "code",
      "source": [
        "print(\"(u1 + 2*u2 <= 12) value =\", ((u1_.value + 2*u2_.value-12))  )\n",
        "print(\"(2*u1 + u2 <=12 )  variable = \", ((2*u1_.value + u2_.value - 12 )) )\n",
        "print(\"(u1 >= d1)  variable = \",  ((2-u1_.value)))\n",
        "print(\" (u2 >= d2)  variable = \", ((1-u2_.value)) )"
      ],
      "metadata": {
        "colab": {
          "base_uri": "https://localhost:8080/"
        },
        "id": "Y2dJ6m9V2YpE",
        "outputId": "a3a730ce-870c-43f0-a73e-58f9e271b791"
      },
      "execution_count": 24,
      "outputs": [
        {
          "output_type": "stream",
          "name": "stdout",
          "text": [
            "(u1 + 2*u2 <= 12) value = -1.4108786139388485e-07\n",
            "(2*u1 + u2 <=12 )  variable =  -6.307437949715222e-08\n",
            "(u1 >= d1)  variable =  -2.000000004979701\n",
            " (u2 >= d2)  variable =  -2.9999999269662188\n"
          ]
        }
      ]
    },
    {
      "cell_type": "code",
      "source": [],
      "metadata": {
        "id": "4YXLBpH1_jTk"
      },
      "execution_count": 24,
      "outputs": []
    }
  ]
}